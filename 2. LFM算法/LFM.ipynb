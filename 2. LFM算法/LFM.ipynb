{
 "cells": [
  {
   "cell_type": "code",
   "execution_count": 1,
   "metadata": {},
   "outputs": [],
   "source": [
    "from source.model import *"
   ]
  },
  {
   "cell_type": "code",
   "execution_count": 2,
   "metadata": {},
   "outputs": [
    {
     "name": "stdout",
     "output_type": "stream",
     "text": [
      "WARNING:tensorflow:From D:\\App\\Anaconda\\lib\\site-packages\\tensorflow\\python\\framework\\op_def_library.py:263: colocate_with (from tensorflow.python.framework.ops) is deprecated and will be removed in a future version.\n",
      "Instructions for updating:\n",
      "Colocations handled automatically by placer.\n"
     ]
    }
   ],
   "source": [
    "model = LFMModel()"
   ]
  },
  {
   "cell_type": "code",
   "execution_count": 3,
   "metadata": {},
   "outputs": [
    {
     "name": "stdout",
     "output_type": "stream",
     "text": [
      "100\n",
      "RMSE:  2.911741376538964\n",
      "MAE:  2.2615987820504007\n",
      "200\n",
      "RMSE:  1.667016190363832\n",
      "MAE:  1.2052941293053925\n",
      "300\n",
      "RMSE:  1.5458618829551583\n",
      "MAE:  1.1047915812765294\n",
      "400\n",
      "RMSE:  1.4727484087361864\n",
      "MAE:  1.0503497476184755\n",
      "500\n",
      "RMSE:  1.4481550827061547\n",
      "MAE:  1.0222876873678013\n",
      "600\n",
      "RMSE:  1.4827579219020044\n",
      "MAE:  1.0358580953674845\n",
      "700\n",
      "RMSE:  1.4476920055372993\n",
      "MAE:  1.01425194532363\n",
      "800\n",
      "RMSE:  1.4824585300621087\n",
      "MAE:  1.0338631849327347\n",
      "900\n",
      "RMSE:  1.4947889932914815\n",
      "MAE:  1.0445885192522648\n",
      "1000\n",
      "RMSE:  1.480417889301392\n",
      "MAE:  1.0320001951309825\n"
     ]
    }
   ],
   "source": [
    "for step in range(100,1100, 100):\n",
    "    model.train(steps=step)\n",
    "    print(step)\n",
    "    model.score()"
   ]
  },
  {
   "cell_type": "code",
   "execution_count": 4,
   "metadata": {},
   "outputs": [
    {
     "name": "stdout",
     "output_type": "stream",
     "text": [
      "RMSE:  1.6482758568347189\n",
      "MAE:  1.104894104411827\n"
     ]
    },
    {
     "data": {
      "text/plain": [
       "(1.6482758568347189, 1.104894104411827)"
      ]
     },
     "execution_count": 4,
     "metadata": {},
     "output_type": "execute_result"
    }
   ],
   "source": [
    "model.train(steps=2000)\n",
    "model.score()"
   ]
  },
  {
   "cell_type": "code",
   "execution_count": 2,
   "metadata": {},
   "outputs": [
    {
     "name": "stdout",
     "output_type": "stream",
     "text": [
      "10\n",
      "WARNING:tensorflow:From D:\\App\\Anaconda\\lib\\site-packages\\tensorflow\\python\\framework\\op_def_library.py:263: colocate_with (from tensorflow.python.framework.ops) is deprecated and will be removed in a future version.\n",
      "Instructions for updating:\n",
      "Colocations handled automatically by placer.\n",
      "RMSE:  1.4457712579233883\n",
      "MAE:  1.0201607663123473\n",
      "20\n",
      "RMSE:  2.0170549631415144\n",
      "MAE:  1.4259738359485084\n",
      "30\n",
      "RMSE:  2.6002788625073285\n",
      "MAE:  1.8503770054514561\n",
      "40\n",
      "RMSE:  3.3182207564979103\n",
      "MAE:  2.389158640091705\n",
      "50\n",
      "RMSE:  4.036439090514798\n",
      "MAE:  2.9636670461842236\n"
     ]
    }
   ],
   "source": [
    "for factor_n in range(10, 60, 10):\n",
    "    print(factor_n)\n",
    "    model = LFMModel(factor_n=factor_n)\n",
    "    model.train(steps=500)\n",
    "    model.score()"
   ]
  },
  {
   "cell_type": "code",
   "execution_count": null,
   "metadata": {},
   "outputs": [],
   "source": []
  }
 ],
 "metadata": {
  "kernelspec": {
   "display_name": "Python 3",
   "language": "python",
   "name": "python3"
  },
  "language_info": {
   "codemirror_mode": {
    "name": "ipython",
    "version": 3
   },
   "file_extension": ".py",
   "mimetype": "text/x-python",
   "name": "python",
   "nbconvert_exporter": "python",
   "pygments_lexer": "ipython3",
   "version": "3.7.0"
  }
 },
 "nbformat": 4,
 "nbformat_minor": 2
}
