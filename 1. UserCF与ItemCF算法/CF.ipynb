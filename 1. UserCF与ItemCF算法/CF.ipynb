{
 "cells": [
  {
   "cell_type": "code",
   "execution_count": 2,
   "metadata": {},
   "outputs": [],
   "source": [
    "from source.model import *"
   ]
  },
  {
   "cell_type": "code",
   "execution_count": null,
   "metadata": {},
   "outputs": [],
   "source": [
    "model1 = UserCFModel()"
   ]
  },
  {
   "cell_type": "code",
   "execution_count": null,
   "metadata": {},
   "outputs": [],
   "source": [
    "model1.score()"
   ]
  },
  {
   "cell_type": "code",
   "execution_count": null,
   "metadata": {},
   "outputs": [],
   "source": [
    "model2 = ItemCFModel()"
   ]
  },
  {
   "cell_type": "code",
   "execution_count": null,
   "metadata": {},
   "outputs": [],
   "source": [
    "model2.score()"
   ]
  },
  {
   "cell_type": "code",
   "execution_count": null,
   "metadata": {},
   "outputs": [],
   "source": [
    "from source.model import *\n",
    "model1 = UserCFModel()\n",
    "model1.score()"
   ]
  },
  {
   "cell_type": "code",
   "execution_count": null,
   "metadata": {},
   "outputs": [],
   "source": [
    "for k in range(50,650,50):\n",
    "    print(k)\n",
    "    model1 = UserCFModel(top_k=k)\n",
    "    model1.score()"
   ]
  },
  {
   "cell_type": "code",
   "execution_count": 3,
   "metadata": {},
   "outputs": [],
   "source": [
    "model2 = ItemCFModel(top_k=)"
   ]
  },
  {
   "cell_type": "code",
   "execution_count": 4,
   "metadata": {},
   "outputs": [
    {
     "name": "stdout",
     "output_type": "stream",
     "text": [
      "1000\n",
      "RMSE:  1.142526682821731\n",
      "MAE:  0.8241920086486314\n",
      "1500\n",
      "RMSE:  1.142526682821731\n",
      "MAE:  0.8241920086486314\n",
      "2000\n",
      "RMSE:  1.142526682821731\n",
      "MAE:  0.8241920086486314\n",
      "2500\n",
      "RMSE:  1.142526682821731\n",
      "MAE:  0.8241920086486314\n",
      "3000\n",
      "RMSE:  1.142526682821731\n",
      "MAE:  0.8241920086486314\n",
      "3500\n",
      "RMSE:  1.142526682821731\n",
      "MAE:  0.8241920086486314\n",
      "4000\n",
      "RMSE:  1.142526682821731\n",
      "MAE:  0.8241920086486314\n",
      "4500\n",
      "RMSE:  1.142526682821731\n",
      "MAE:  0.8241920086486314\n",
      "5000\n",
      "RMSE:  1.142526682821731\n",
      "MAE:  0.8241920086486314\n",
      "5500\n",
      "RMSE:  1.142526682821731\n",
      "MAE:  0.8241920086486314\n",
      "6000\n",
      "RMSE:  1.142526682821731\n",
      "MAE:  0.8241920086486314\n",
      "6500\n",
      "RMSE:  1.142526682821731\n",
      "MAE:  0.8241920086486314\n",
      "7000\n",
      "RMSE:  1.142526682821731\n",
      "MAE:  0.8241920086486314\n",
      "7500\n",
      "RMSE:  1.142526682821731\n",
      "MAE:  0.8241920086486314\n",
      "8000\n",
      "RMSE:  1.142526682821731\n",
      "MAE:  0.8241920086486314\n",
      "8500\n",
      "RMSE:  1.142526682821731\n",
      "MAE:  0.8241920086486314\n",
      "9000\n",
      "RMSE:  1.142526682821731\n",
      "MAE:  0.8241920086486314\n",
      "9500\n",
      "RMSE:  1.142526682821731\n",
      "MAE:  0.8241920086486314\n"
     ]
    }
   ],
   "source": [
    "for k in range(1000,10000,500):\n",
    "    print(k)\n",
    "    model2.score()"
   ]
  },
  {
   "cell_type": "code",
   "execution_count": 1,
   "metadata": {},
   "outputs": [],
   "source": [
    "from source.preprocessing import parse_user_action"
   ]
  },
  {
   "cell_type": "code",
   "execution_count": 2,
   "metadata": {},
   "outputs": [],
   "source": [
    "parse_user_action()"
   ]
  },
  {
   "cell_type": "code",
   "execution_count": null,
   "metadata": {},
   "outputs": [],
   "source": []
  }
 ],
 "metadata": {
  "kernelspec": {
   "display_name": "Python 3",
   "language": "python",
   "name": "python3"
  },
  "language_info": {
   "codemirror_mode": {
    "name": "ipython",
    "version": 3
   },
   "file_extension": ".py",
   "mimetype": "text/x-python",
   "name": "python",
   "nbconvert_exporter": "python",
   "pygments_lexer": "ipython3",
   "version": "3.7.0"
  }
 },
 "nbformat": 4,
 "nbformat_minor": 2
}
